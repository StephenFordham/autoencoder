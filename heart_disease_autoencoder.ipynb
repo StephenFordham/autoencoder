{
 "cells": [
  {
   "cell_type": "markdown",
   "metadata": {},
   "source": [
    "# Autoencoder in Heart Disease\n",
    "\n",
    "\n",
    "## Reduce dimensionality"
   ]
  },
  {
   "cell_type": "markdown",
   "metadata": {},
   "source": [
    "<img src="https://github.com/StephenFordham/StephenFordham/tree/master/images/heart_image.png" width=500 align=\"left\">"
   ]
  },
  {
   "cell_type": "markdown",
   "metadata": {},
   "source": [
    "[Dataset available from Kaggle and Github](https://www.kaggle.com/ronitf/heart-disease-uci)\n",
    "\n",
    "\n",
    "***\n",
    "\n",
    "1. age\n",
    "2. sex\n",
    "3. chest pain type (4 values)\n",
    "4. resting blood pressure\n",
    "5. serum cholestoral in mg/dl\n",
    "6. fasting blood sugar > 120 mg/dl\n",
    "7. resting electrocardiographic results (values 0,1,2)\n",
    "8. maximum heart rate achieved\n",
    "9. exercise induced angina\n",
    "10. oldpeak = ST depression induced by exercise relative to rest\n",
    "11. the slope of the peak exercise ST segment\n",
    "12. number of major vessels (0-3) colored by flourosopy\n",
    "13. thal: 3 = normal; 6 = fixed defect; 7 = reversable defect\n",
    "\n"
   ]
  },
  {
   "cell_type": "code",
   "execution_count": 2,
   "metadata": {},
   "outputs": [],
   "source": [
    "import pandas as pd\n",
    "import seaborn as sns\n",
    "import numpy as np\n",
    "import matplotlib.pyplot as plt"
   ]
  },
  {
   "cell_type": "code",
   "execution_count": 77,
   "metadata": {},
   "outputs": [],
   "source": [
    "df = pd.read_csv('heart_disease.csv')"
   ]
  },
  {
   "cell_type": "code",
   "execution_count": 78,
   "metadata": {},
   "outputs": [
    {
     "data": {
      "text/html": [
       "<div>\n",
       "<style scoped>\n",
       "    .dataframe tbody tr th:only-of-type {\n",
       "        vertical-align: middle;\n",
       "    }\n",
       "\n",
       "    .dataframe tbody tr th {\n",
       "        vertical-align: top;\n",
       "    }\n",
       "\n",
       "    .dataframe thead th {\n",
       "        text-align: right;\n",
       "    }\n",
       "</style>\n",
       "<table border=\"1\" class=\"dataframe\">\n",
       "  <thead>\n",
       "    <tr style=\"text-align: right;\">\n",
       "      <th></th>\n",
       "      <th>age</th>\n",
       "      <th>sex</th>\n",
       "      <th>cp</th>\n",
       "      <th>trestbps</th>\n",
       "      <th>chol</th>\n",
       "      <th>fbs</th>\n",
       "      <th>restecg</th>\n",
       "      <th>thalach</th>\n",
       "      <th>exang</th>\n",
       "      <th>oldpeak</th>\n",
       "      <th>slope</th>\n",
       "      <th>ca</th>\n",
       "      <th>thal</th>\n",
       "      <th>target</th>\n",
       "    </tr>\n",
       "  </thead>\n",
       "  <tbody>\n",
       "    <tr>\n",
       "      <th>0</th>\n",
       "      <td>63</td>\n",
       "      <td>1</td>\n",
       "      <td>3</td>\n",
       "      <td>145</td>\n",
       "      <td>233</td>\n",
       "      <td>1</td>\n",
       "      <td>0</td>\n",
       "      <td>150</td>\n",
       "      <td>0</td>\n",
       "      <td>2.3</td>\n",
       "      <td>0</td>\n",
       "      <td>0</td>\n",
       "      <td>1</td>\n",
       "      <td>1</td>\n",
       "    </tr>\n",
       "    <tr>\n",
       "      <th>1</th>\n",
       "      <td>37</td>\n",
       "      <td>1</td>\n",
       "      <td>2</td>\n",
       "      <td>130</td>\n",
       "      <td>250</td>\n",
       "      <td>0</td>\n",
       "      <td>1</td>\n",
       "      <td>187</td>\n",
       "      <td>0</td>\n",
       "      <td>3.5</td>\n",
       "      <td>0</td>\n",
       "      <td>0</td>\n",
       "      <td>2</td>\n",
       "      <td>1</td>\n",
       "    </tr>\n",
       "    <tr>\n",
       "      <th>2</th>\n",
       "      <td>41</td>\n",
       "      <td>0</td>\n",
       "      <td>1</td>\n",
       "      <td>130</td>\n",
       "      <td>204</td>\n",
       "      <td>0</td>\n",
       "      <td>0</td>\n",
       "      <td>172</td>\n",
       "      <td>0</td>\n",
       "      <td>1.4</td>\n",
       "      <td>2</td>\n",
       "      <td>0</td>\n",
       "      <td>2</td>\n",
       "      <td>1</td>\n",
       "    </tr>\n",
       "    <tr>\n",
       "      <th>3</th>\n",
       "      <td>56</td>\n",
       "      <td>1</td>\n",
       "      <td>1</td>\n",
       "      <td>120</td>\n",
       "      <td>236</td>\n",
       "      <td>0</td>\n",
       "      <td>1</td>\n",
       "      <td>178</td>\n",
       "      <td>0</td>\n",
       "      <td>0.8</td>\n",
       "      <td>2</td>\n",
       "      <td>0</td>\n",
       "      <td>2</td>\n",
       "      <td>1</td>\n",
       "    </tr>\n",
       "    <tr>\n",
       "      <th>4</th>\n",
       "      <td>57</td>\n",
       "      <td>0</td>\n",
       "      <td>0</td>\n",
       "      <td>120</td>\n",
       "      <td>354</td>\n",
       "      <td>0</td>\n",
       "      <td>1</td>\n",
       "      <td>163</td>\n",
       "      <td>1</td>\n",
       "      <td>0.6</td>\n",
       "      <td>2</td>\n",
       "      <td>0</td>\n",
       "      <td>2</td>\n",
       "      <td>1</td>\n",
       "    </tr>\n",
       "  </tbody>\n",
       "</table>\n",
       "</div>"
      ],
      "text/plain": [
       "   age  sex  cp  trestbps  chol  fbs  restecg  thalach  exang  oldpeak  slope  \\\n",
       "0   63    1   3       145   233    1        0      150      0      2.3      0   \n",
       "1   37    1   2       130   250    0        1      187      0      3.5      0   \n",
       "2   41    0   1       130   204    0        0      172      0      1.4      2   \n",
       "3   56    1   1       120   236    0        1      178      0      0.8      2   \n",
       "4   57    0   0       120   354    0        1      163      1      0.6      2   \n",
       "\n",
       "   ca  thal  target  \n",
       "0   0     1       1  \n",
       "1   0     2       1  \n",
       "2   0     2       1  \n",
       "3   0     2       1  \n",
       "4   0     2       1  "
      ]
     },
     "execution_count": 78,
     "metadata": {},
     "output_type": "execute_result"
    }
   ],
   "source": [
    "df.head()"
   ]
  },
  {
   "cell_type": "code",
   "execution_count": 79,
   "metadata": {},
   "outputs": [
    {
     "data": {
      "text/plain": [
       "303"
      ]
     },
     "execution_count": 79,
     "metadata": {},
     "output_type": "execute_result"
    }
   ],
   "source": [
    "len(df)"
   ]
  },
  {
   "cell_type": "code",
   "execution_count": 80,
   "metadata": {},
   "outputs": [
    {
     "data": {
      "text/plain": [
       "array([3, 2, 1, 0], dtype=int64)"
      ]
     },
     "execution_count": 80,
     "metadata": {},
     "output_type": "execute_result"
    }
   ],
   "source": [
    "df['cp'].unique()"
   ]
  },
  {
   "cell_type": "code",
   "execution_count": 81,
   "metadata": {},
   "outputs": [],
   "source": [
    "df = df.groupby('cp').mean()"
   ]
  },
  {
   "cell_type": "code",
   "execution_count": 82,
   "metadata": {},
   "outputs": [
    {
     "data": {
      "text/html": [
       "<div>\n",
       "<style scoped>\n",
       "    .dataframe tbody tr th:only-of-type {\n",
       "        vertical-align: middle;\n",
       "    }\n",
       "\n",
       "    .dataframe tbody tr th {\n",
       "        vertical-align: top;\n",
       "    }\n",
       "\n",
       "    .dataframe thead th {\n",
       "        text-align: right;\n",
       "    }\n",
       "</style>\n",
       "<table border=\"1\" class=\"dataframe\">\n",
       "  <thead>\n",
       "    <tr style=\"text-align: right;\">\n",
       "      <th></th>\n",
       "      <th>age</th>\n",
       "      <th>sex</th>\n",
       "      <th>trestbps</th>\n",
       "      <th>chol</th>\n",
       "      <th>fbs</th>\n",
       "      <th>restecg</th>\n",
       "      <th>thalach</th>\n",
       "      <th>exang</th>\n",
       "      <th>oldpeak</th>\n",
       "      <th>slope</th>\n",
       "      <th>ca</th>\n",
       "      <th>thal</th>\n",
       "      <th>target</th>\n",
       "    </tr>\n",
       "    <tr>\n",
       "      <th>cp</th>\n",
       "      <th></th>\n",
       "      <th></th>\n",
       "      <th></th>\n",
       "      <th></th>\n",
       "      <th></th>\n",
       "      <th></th>\n",
       "      <th></th>\n",
       "      <th></th>\n",
       "      <th></th>\n",
       "      <th></th>\n",
       "      <th></th>\n",
       "      <th></th>\n",
       "      <th></th>\n",
       "    </tr>\n",
       "  </thead>\n",
       "  <tbody>\n",
       "    <tr>\n",
       "      <th>0</th>\n",
       "      <td>55.692308</td>\n",
       "      <td>0.727273</td>\n",
       "      <td>132.020979</td>\n",
       "      <td>250.132867</td>\n",
       "      <td>0.125874</td>\n",
       "      <td>0.475524</td>\n",
       "      <td>140.538462</td>\n",
       "      <td>0.559441</td>\n",
       "      <td>1.383217</td>\n",
       "      <td>1.258741</td>\n",
       "      <td>0.965035</td>\n",
       "      <td>2.447552</td>\n",
       "      <td>0.272727</td>\n",
       "    </tr>\n",
       "    <tr>\n",
       "      <th>1</th>\n",
       "      <td>51.360000</td>\n",
       "      <td>0.640000</td>\n",
       "      <td>128.400000</td>\n",
       "      <td>244.780000</td>\n",
       "      <td>0.100000</td>\n",
       "      <td>0.620000</td>\n",
       "      <td>162.420000</td>\n",
       "      <td>0.080000</td>\n",
       "      <td>0.316000</td>\n",
       "      <td>1.680000</td>\n",
       "      <td>0.420000</td>\n",
       "      <td>2.140000</td>\n",
       "      <td>0.820000</td>\n",
       "    </tr>\n",
       "    <tr>\n",
       "      <th>2</th>\n",
       "      <td>53.517241</td>\n",
       "      <td>0.597701</td>\n",
       "      <td>130.379310</td>\n",
       "      <td>243.172414</td>\n",
       "      <td>0.195402</td>\n",
       "      <td>0.597701</td>\n",
       "      <td>155.609195</td>\n",
       "      <td>0.126437</td>\n",
       "      <td>0.797701</td>\n",
       "      <td>1.505747</td>\n",
       "      <td>0.586207</td>\n",
       "      <td>2.206897</td>\n",
       "      <td>0.793103</td>\n",
       "    </tr>\n",
       "    <tr>\n",
       "      <th>3</th>\n",
       "      <td>55.869565</td>\n",
       "      <td>0.826087</td>\n",
       "      <td>140.869565</td>\n",
       "      <td>237.130435</td>\n",
       "      <td>0.217391</td>\n",
       "      <td>0.391304</td>\n",
       "      <td>155.956522</td>\n",
       "      <td>0.173913</td>\n",
       "      <td>1.391304</td>\n",
       "      <td>1.260870</td>\n",
       "      <td>0.478261</td>\n",
       "      <td>2.260870</td>\n",
       "      <td>0.695652</td>\n",
       "    </tr>\n",
       "  </tbody>\n",
       "</table>\n",
       "</div>"
      ],
      "text/plain": [
       "          age       sex    trestbps        chol       fbs   restecg  \\\n",
       "cp                                                                    \n",
       "0   55.692308  0.727273  132.020979  250.132867  0.125874  0.475524   \n",
       "1   51.360000  0.640000  128.400000  244.780000  0.100000  0.620000   \n",
       "2   53.517241  0.597701  130.379310  243.172414  0.195402  0.597701   \n",
       "3   55.869565  0.826087  140.869565  237.130435  0.217391  0.391304   \n",
       "\n",
       "       thalach     exang   oldpeak     slope        ca      thal    target  \n",
       "cp                                                                          \n",
       "0   140.538462  0.559441  1.383217  1.258741  0.965035  2.447552  0.272727  \n",
       "1   162.420000  0.080000  0.316000  1.680000  0.420000  2.140000  0.820000  \n",
       "2   155.609195  0.126437  0.797701  1.505747  0.586207  2.206897  0.793103  \n",
       "3   155.956522  0.173913  1.391304  1.260870  0.478261  2.260870  0.695652  "
      ]
     },
     "execution_count": 82,
     "metadata": {},
     "output_type": "execute_result"
    }
   ],
   "source": [
    "df"
   ]
  },
  {
   "cell_type": "code",
   "execution_count": 83,
   "metadata": {},
   "outputs": [],
   "source": [
    "df = df.round(2)"
   ]
  },
  {
   "cell_type": "code",
   "execution_count": 84,
   "metadata": {},
   "outputs": [
    {
     "data": {
      "text/plain": [
       "<matplotlib.axes._subplots.AxesSubplot at 0x2b4e551bf08>"
      ]
     },
     "execution_count": 84,
     "metadata": {},
     "output_type": "execute_result"
    },
    {
     "data": {
      "image/png": "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\n",
      "text/plain": [
       "<Figure size 720x576 with 2 Axes>"
      ]
     },
     "metadata": {
      "needs_background": "light"
     },
     "output_type": "display_data"
    }
   ],
   "source": [
    "plt.figure(figsize=(10, 8))\n",
    "sns.heatmap(df)"
   ]
  },
  {
   "cell_type": "code",
   "execution_count": 85,
   "metadata": {},
   "outputs": [
    {
     "data": {
      "text/plain": [
       "(4, 13)"
      ]
     },
     "execution_count": 85,
     "metadata": {},
     "output_type": "execute_result"
    }
   ],
   "source": [
    "df.shape"
   ]
  },
  {
   "cell_type": "code",
   "execution_count": 86,
   "metadata": {},
   "outputs": [
    {
     "data": {
      "text/plain": [
       "Int64Index([0, 1, 2, 3], dtype='int64', name='cp')"
      ]
     },
     "execution_count": 86,
     "metadata": {},
     "output_type": "execute_result"
    }
   ],
   "source": [
    "df.index"
   ]
  },
  {
   "cell_type": "markdown",
   "metadata": {},
   "source": [
    "# Building the Autoencoder"
   ]
  },
  {
   "cell_type": "code",
   "execution_count": 87,
   "metadata": {},
   "outputs": [],
   "source": [
    "from tensorflow.keras.models import Sequential\n",
    "from tensorflow.keras.layers import Dense\n",
    "from tensorflow.keras.optimizers import SGD"
   ]
  },
  {
   "cell_type": "code",
   "execution_count": 88,
   "metadata": {},
   "outputs": [],
   "source": [
    "# 13 > 6 > 4 > 2 > 4 > 6 > 13"
   ]
  },
  {
   "cell_type": "code",
   "execution_count": 89,
   "metadata": {},
   "outputs": [],
   "source": [
    "encoder = Sequential()\n",
    "encoder.add(Dense(6, activation='relu', input_shape=[13]))\n",
    "encoder.add(Dense(4, activation='relu'))\n",
    "encoder.add(Dense(2, activation='relu'))"
   ]
  },
  {
   "cell_type": "code",
   "execution_count": 90,
   "metadata": {},
   "outputs": [],
   "source": [
    "decoder = Sequential()\n",
    "decoder.add(Dense(4, activation='relu', input_shape=[2]))\n",
    "decoder.add(Dense(8, activation='relu'))\n",
    "decoder.add(Dense(13, activation='relu'))"
   ]
  },
  {
   "cell_type": "code",
   "execution_count": 91,
   "metadata": {},
   "outputs": [],
   "source": [
    "autoencoder = Sequential([encoder, decoder])\n",
    "autoencoder.compile(loss='mse', optimizer=SGD(lr=1.5))"
   ]
  },
  {
   "cell_type": "code",
   "execution_count": 92,
   "metadata": {},
   "outputs": [],
   "source": [
    "from sklearn.preprocessing import MinMaxScaler"
   ]
  },
  {
   "cell_type": "code",
   "execution_count": 93,
   "metadata": {},
   "outputs": [],
   "source": [
    "scaler = MinMaxScaler()"
   ]
  },
  {
   "cell_type": "code",
   "execution_count": 94,
   "metadata": {},
   "outputs": [],
   "source": [
    "scaled_df = scaler.fit_transform(df.values)"
   ]
  },
  {
   "cell_type": "code",
   "execution_count": 95,
   "metadata": {},
   "outputs": [
    {
     "data": {
      "text/plain": [
       "array([[0.96008869, 0.56521739, 0.29029671, 1.        , 0.25      ,\n",
       "        0.39130435, 0.        , 1.        , 0.99065421, 0.        ,\n",
       "        1.        , 1.        , 0.        ],\n",
       "       [0.        , 0.17391304, 0.        , 0.58846154, 0.        ,\n",
       "        1.        , 1.        , 0.        , 0.        , 1.        ,\n",
       "        0.        , 0.        , 1.        ],\n",
       "       [0.4789357 , 0.        , 0.15878107, 0.46461538, 0.83333333,\n",
       "        0.91304348, 0.68875686, 0.10416667, 0.44859813, 0.5952381 ,\n",
       "        0.30909091, 0.22580645, 0.94545455],\n",
       "       [1.        , 1.        , 1.        , 0.        , 1.        ,\n",
       "        0.        , 0.7047532 , 0.1875    , 1.        , 0.        ,\n",
       "        0.10909091, 0.38709677, 0.78181818]])"
      ]
     },
     "execution_count": 95,
     "metadata": {},
     "output_type": "execute_result"
    }
   ],
   "source": [
    "scaled_df"
   ]
  },
  {
   "cell_type": "code",
   "execution_count": 96,
   "metadata": {},
   "outputs": [
    {
     "name": "stdout",
     "output_type": "stream",
     "text": [
      "Epoch 1/18\n",
      "1/1 [==============================] - 0s 978us/step - loss: 0.3882\n",
      "Epoch 2/18\n",
      "1/1 [==============================] - 0s 990us/step - loss: 0.3284\n",
      "Epoch 3/18\n",
      "1/1 [==============================] - 0s 1ms/step - loss: 0.3042\n",
      "Epoch 4/18\n",
      "1/1 [==============================] - 0s 999us/step - loss: 0.2935\n",
      "Epoch 5/18\n",
      "1/1 [==============================] - 0s 997us/step - loss: 0.2881\n",
      "Epoch 6/18\n",
      "1/1 [==============================] - 0s 996us/step - loss: 0.2853\n",
      "Epoch 7/18\n",
      "1/1 [==============================] - 0s 996us/step - loss: 0.2836\n",
      "Epoch 8/18\n",
      "1/1 [==============================] - 0s 2ms/step - loss: 0.2824\n",
      "Epoch 9/18\n",
      "1/1 [==============================] - 0s 2ms/step - loss: 0.2815\n",
      "Epoch 10/18\n",
      "1/1 [==============================] - 0s 996us/step - loss: 0.2806\n",
      "Epoch 11/18\n",
      "1/1 [==============================] - 0s 3ms/step - loss: 0.2797\n",
      "Epoch 12/18\n",
      "1/1 [==============================] - 0s 1ms/step - loss: 0.2787\n",
      "Epoch 13/18\n",
      "1/1 [==============================] - 0s 1ms/step - loss: 0.2777\n",
      "Epoch 14/18\n",
      "1/1 [==============================] - 0s 2ms/step - loss: 0.2765\n",
      "Epoch 15/18\n",
      "1/1 [==============================] - 0s 999us/step - loss: 0.2751\n",
      "Epoch 16/18\n",
      "1/1 [==============================] - 0s 1ms/step - loss: 0.2736\n",
      "Epoch 17/18\n",
      "1/1 [==============================] - 0s 997us/step - loss: 0.2718\n",
      "Epoch 18/18\n",
      "1/1 [==============================] - 0s 2ms/step - loss: 0.2699\n"
     ]
    },
    {
     "data": {
      "text/plain": [
       "<tensorflow.python.keras.callbacks.History at 0x2b4e5503c48>"
      ]
     },
     "execution_count": 96,
     "metadata": {},
     "output_type": "execute_result"
    }
   ],
   "source": [
    "autoencoder.fit(scaled_df, scaled_df, epochs=18)"
   ]
  },
  {
   "cell_type": "code",
   "execution_count": 97,
   "metadata": {},
   "outputs": [
    {
     "data": {
      "text/plain": [
       "(4, 13)"
      ]
     },
     "execution_count": 97,
     "metadata": {},
     "output_type": "execute_result"
    }
   ],
   "source": [
    "df.shape"
   ]
  },
  {
   "cell_type": "code",
   "execution_count": 98,
   "metadata": {},
   "outputs": [],
   "source": [
    "encoded_2dim = encoder.predict(scaled_df)"
   ]
  },
  {
   "cell_type": "code",
   "execution_count": 99,
   "metadata": {},
   "outputs": [
    {
     "data": {
      "text/plain": [
       "(4, 2)"
      ]
     },
     "execution_count": 99,
     "metadata": {},
     "output_type": "execute_result"
    }
   ],
   "source": [
    "encoded_2dim.shape"
   ]
  },
  {
   "cell_type": "markdown",
   "metadata": {},
   "source": [
    "# from 13 to 2 features"
   ]
  },
  {
   "cell_type": "code",
   "execution_count": 100,
   "metadata": {},
   "outputs": [
    {
     "data": {
      "text/plain": [
       "array([[0.       , 1.0870279],\n",
       "       [0.       , 0.       ],\n",
       "       [0.       , 0.       ],\n",
       "       [0.       , 0.7333008]], dtype=float32)"
      ]
     },
     "execution_count": 100,
     "metadata": {},
     "output_type": "execute_result"
    }
   ],
   "source": [
    "encoded_2dim"
   ]
  },
  {
   "cell_type": "code",
   "execution_count": 101,
   "metadata": {},
   "outputs": [],
   "source": [
    "reduced_dim_df = pd.DataFrame(data=encoded_2dim, index=df.index, columns=['X1', 'X2'])"
   ]
  },
  {
   "cell_type": "code",
   "execution_count": 102,
   "metadata": {},
   "outputs": [
    {
     "data": {
      "text/plain": [
       "Int64Index([0, 1, 2, 3], dtype='int64', name='cp')"
      ]
     },
     "execution_count": 102,
     "metadata": {},
     "output_type": "execute_result"
    }
   ],
   "source": [
    "df.index"
   ]
  },
  {
   "cell_type": "code",
   "execution_count": 103,
   "metadata": {},
   "outputs": [
    {
     "data": {
      "text/html": [
       "<div>\n",
       "<style scoped>\n",
       "    .dataframe tbody tr th:only-of-type {\n",
       "        vertical-align: middle;\n",
       "    }\n",
       "\n",
       "    .dataframe tbody tr th {\n",
       "        vertical-align: top;\n",
       "    }\n",
       "\n",
       "    .dataframe thead th {\n",
       "        text-align: right;\n",
       "    }\n",
       "</style>\n",
       "<table border=\"1\" class=\"dataframe\">\n",
       "  <thead>\n",
       "    <tr style=\"text-align: right;\">\n",
       "      <th></th>\n",
       "      <th>X1</th>\n",
       "      <th>X2</th>\n",
       "    </tr>\n",
       "    <tr>\n",
       "      <th>cp</th>\n",
       "      <th></th>\n",
       "      <th></th>\n",
       "    </tr>\n",
       "  </thead>\n",
       "  <tbody>\n",
       "    <tr>\n",
       "      <th>0</th>\n",
       "      <td>0.0</td>\n",
       "      <td>1.087028</td>\n",
       "    </tr>\n",
       "    <tr>\n",
       "      <th>1</th>\n",
       "      <td>0.0</td>\n",
       "      <td>0.000000</td>\n",
       "    </tr>\n",
       "    <tr>\n",
       "      <th>2</th>\n",
       "      <td>0.0</td>\n",
       "      <td>0.000000</td>\n",
       "    </tr>\n",
       "    <tr>\n",
       "      <th>3</th>\n",
       "      <td>0.0</td>\n",
       "      <td>0.733301</td>\n",
       "    </tr>\n",
       "  </tbody>\n",
       "</table>\n",
       "</div>"
      ],
      "text/plain": [
       "     X1        X2\n",
       "cp               \n",
       "0   0.0  1.087028\n",
       "1   0.0  0.000000\n",
       "2   0.0  0.000000\n",
       "3   0.0  0.733301"
      ]
     },
     "execution_count": 103,
     "metadata": {},
     "output_type": "execute_result"
    }
   ],
   "source": [
    "reduced_dim_df"
   ]
  },
  {
   "cell_type": "code",
   "execution_count": 104,
   "metadata": {},
   "outputs": [],
   "source": [
    "reduced_dim_df.reset_index(inplace=True)"
   ]
  },
  {
   "cell_type": "code",
   "execution_count": 105,
   "metadata": {},
   "outputs": [
    {
     "data": {
      "text/html": [
       "<div>\n",
       "<style scoped>\n",
       "    .dataframe tbody tr th:only-of-type {\n",
       "        vertical-align: middle;\n",
       "    }\n",
       "\n",
       "    .dataframe tbody tr th {\n",
       "        vertical-align: top;\n",
       "    }\n",
       "\n",
       "    .dataframe thead th {\n",
       "        text-align: right;\n",
       "    }\n",
       "</style>\n",
       "<table border=\"1\" class=\"dataframe\">\n",
       "  <thead>\n",
       "    <tr style=\"text-align: right;\">\n",
       "      <th></th>\n",
       "      <th>cp</th>\n",
       "      <th>X1</th>\n",
       "      <th>X2</th>\n",
       "    </tr>\n",
       "  </thead>\n",
       "  <tbody>\n",
       "    <tr>\n",
       "      <th>0</th>\n",
       "      <td>0</td>\n",
       "      <td>0.0</td>\n",
       "      <td>1.087028</td>\n",
       "    </tr>\n",
       "    <tr>\n",
       "      <th>1</th>\n",
       "      <td>1</td>\n",
       "      <td>0.0</td>\n",
       "      <td>0.000000</td>\n",
       "    </tr>\n",
       "    <tr>\n",
       "      <th>2</th>\n",
       "      <td>2</td>\n",
       "      <td>0.0</td>\n",
       "      <td>0.000000</td>\n",
       "    </tr>\n",
       "    <tr>\n",
       "      <th>3</th>\n",
       "      <td>3</td>\n",
       "      <td>0.0</td>\n",
       "      <td>0.733301</td>\n",
       "    </tr>\n",
       "  </tbody>\n",
       "</table>\n",
       "</div>"
      ],
      "text/plain": [
       "   cp   X1        X2\n",
       "0   0  0.0  1.087028\n",
       "1   1  0.0  0.000000\n",
       "2   2  0.0  0.000000\n",
       "3   3  0.0  0.733301"
      ]
     },
     "execution_count": 105,
     "metadata": {},
     "output_type": "execute_result"
    }
   ],
   "source": [
    "reduced_dim_df"
   ]
  },
  {
   "cell_type": "code",
   "execution_count": 106,
   "metadata": {},
   "outputs": [
    {
     "data": {
      "text/plain": [
       "<matplotlib.axes._subplots.AxesSubplot at 0x2b4e34ccb08>"
      ]
     },
     "execution_count": 106,
     "metadata": {},
     "output_type": "execute_result"
    },
    {
     "data": {
      "image/png": "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\n",
      "text/plain": [
       "<Figure size 720x576 with 1 Axes>"
      ]
     },
     "metadata": {
      "needs_background": "light"
     },
     "output_type": "display_data"
    }
   ],
   "source": [
    "plt.figure(figsize=(10, 8))\n",
    "sns.scatterplot(reduced_dim_df.X1, reduced_dim_df.X2, data=reduced_dim_df,\n",
    "               hue='cp', palette=\"RdBu_r\", s=200)"
   ]
  },
  {
   "cell_type": "code",
   "execution_count": null,
   "metadata": {},
   "outputs": [],
   "source": []
  },
  {
   "cell_type": "code",
   "execution_count": null,
   "metadata": {},
   "outputs": [],
   "source": []
  },
  {
   "cell_type": "code",
   "execution_count": null,
   "metadata": {},
   "outputs": [],
   "source": []
  },
  {
   "cell_type": "code",
   "execution_count": null,
   "metadata": {},
   "outputs": [],
   "source": []
  },
  {
   "cell_type": "code",
   "execution_count": null,
   "metadata": {},
   "outputs": [],
   "source": []
  },
  {
   "cell_type": "code",
   "execution_count": null,
   "metadata": {},
   "outputs": [],
   "source": []
  },
  {
   "cell_type": "code",
   "execution_count": null,
   "metadata": {},
   "outputs": [],
   "source": []
  }
 ],
 "metadata": {
  "kernelspec": {
   "display_name": "Python 3",
   "language": "python",
   "name": "python3"
  },
  "language_info": {
   "codemirror_mode": {
    "name": "ipython",
    "version": 3
   },
   "file_extension": ".py",
   "mimetype": "text/x-python",
   "name": "python",
   "nbconvert_exporter": "python",
   "pygments_lexer": "ipython3",
   "version": "3.7.6"
  }
 },
 "nbformat": 4,
 "nbformat_minor": 4
}
